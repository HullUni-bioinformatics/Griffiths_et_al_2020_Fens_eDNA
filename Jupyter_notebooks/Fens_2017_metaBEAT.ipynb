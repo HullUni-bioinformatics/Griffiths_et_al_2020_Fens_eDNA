{
 "cells": [
  {
   "cell_type": "markdown",
   "metadata": {},
   "source": [
    "# Pumped Catchment eDNA metabarcoding data processing"
   ]
  },
  {
   "cell_type": "markdown",
   "metadata": {},
   "source": [
    "I will use [metaBEAT](https://github.com/HullUni-bioinformatics/metaBEAT), a tool tailored towards reproducible and efficient analyses of metabarcoding data that was developed by Dr. Christoph Hahn (University of Graz) for the EvoHull group at University of Hull. The pipeline is still under active development and will likely be extended further in the future. The pipeline is available in a Docker container with all necessary dependencies. The Docker image builds on [ReproPhylo](https://github.com/HullUni-bioinformatics/ReproPhylo).\n",
    "\n",
    "The metaBEAT tool is designed for complete bioinformatic analysis from raw data, and performs (optionally) de-multiplexing, quality filtering, chimera detection, clustering, and taxononomic assignment (outputs in `.biom` and `.tsv` formats). It currently supports BLAST, Kraken and phylogenetic placement (pplacer)."
   ]
  },
  {
   "cell_type": "markdown",
   "metadata": {},
   "source": [
    "# Data input"
   ]
  },
  {
   "cell_type": "markdown",
   "metadata": {},
   "source": [
    "This notebook will perform basic processing (trimming, merging, chimera removal, clustering and taxonomic assignment) of the metabarcoding data.\n",
    "\n",
    "Minimum input for an analysis is a set of query sequences in one or several files (a number of file formats are accepted, e.g. `.fasta`, `.fastq`). These will be run through the pipeline sequentially.\n",
    "\n",
    "Information on the nature and location of the query sequence files must be provided in a separate tab-delimited text file via the -Q flags.\n",
    "\n",
    "Each line in this text file should look as follows: unique sample_ID, format, file1, file2\n",
    "\n",
    "The required text files can be generated in any text editor. So theoretically, nano could be used in the terminal to construct the text file. For reproducibility and ease, a simple program can be used to generate the required file.\n",
    "\n",
    "In the cell below, it is produced using a simple python script. The script will list all files in the location to which you downloaded your Illumina data (specified via the 'datadir' variable). It assumes that there is a file ending in `_R1.fastq` for each sample. For each such file, it will extract the sample name from the filename and format the required line for the text file accordingly. The resulting file is called `Querymap.txt` (specified in the 'to' variable)."
   ]
  },
  {
   "cell_type": "code",
   "execution_count": ,
   "metadata": {
    "collapsed": false
   },
   "outputs": [
    {
     "name": "stdout",
     "output_type": "stream",
     "text": [
   ]
    }
   ],
   "source": [
    "!pwd"
   ]
  },
  {
   "cell_type": "code",
   "execution_count": ,
   "metadata": {
    "collapsed": false
   },
   "outputs": [
    {
     "name": "stdout",
     "output_type": "stream",
     "text": [
     ]
    }
   ],
   "source": [
    "!mkdir 1-trimming"
   ]
  },
  {
   "cell_type": "code",
   "execution_count": ,
   "metadata": {
    "collapsed": false
   },
   "outputs": [
    {
     "name": "stdout",
     "output_type": "stream",
     "text": [
     ]
    }
   ],
   "source": [
    "cd 1-trimming"
   ]
  },
  {
   "cell_type": "code",
   "execution_count": ,
   "metadata": {
    "collapsed": false
   },
   "outputs": [
    {
     "name": "stdout",
     "output_type": "stream",
     "text": [
     ]
    }
   ],
   "source": [
    "!ls -1 ../raw_reads/"
   ]
  },
  {
   "cell_type": "markdown",
   "metadata": {},
   "source": [
    "Prepare a text file specifying the samples to be processed, including the format and location of the reads - the querymap.\n",
    "\n",
    "The next command expects two `.fastq` files (forward and reverse reads) per sample in the directory `../raw_reads/`. It expects the files to be named 'SampleID', followed by '_R1' or '_R2' to identify the forward/reverse read file respectively.\n",
    "\n",
    "The raw data have been downloaded and demultiplexed. They can be found in `../raw_reads/`.\n",
    "\n",
    "SampleID must correspond to the first column in a file called `Sample_accessions.tsv`. This will either be pre-made to correspond to downloading read data from the NCBI Sequence Read Archive, or you will have to make it. The marker is '12S'.\n",
    "\n",
    "If the `Sample_accessions.tsv` was pre-made, use this code to proceed:"
   ]
  },
  {
   "cell_type": "code",
   "execution_count": ,
   "metadata": {
    "collapsed": false
   },
   "outputs": [
    {
     "name": "stderr",
     "output_type": "stream",
     "text": [
     ]
    }
   ],
   "source": [
    "#%%bash\n",
    "#\n",
    "#for a in $(cat ../Data/Sample_accessions.tsv | grep \"12S\" | cut -f 1 | grep \"SampleID\" -v)\n",
    "#do\n",
    "#    R1=$(ls -1 ../raw_reads/$a-12S_* | grep \"_R1.fastq\")\n",
    "#    R2=$(ls -1 ../raw_reads/$a-12S_* | grep \"_R2.fastq\")\n",
    "#\n",
    "#    echo -e \"$a\\tfastq\\t$R1\\t$R2\"\n",
    "#done > Querymap.txt"
   ]
  },
  {
   "cell_type": "code",
   "execution_count": ,
   "metadata": {
    "collapsed": false
   },
   "outputs": [],
   "source": [
    "!head -n 10 Querymap.txt"
   ]
  },
  {
   "cell_type": "markdown",
   "metadata": {},
   "source": [
    "**OR...**\n",
    "\n",
    "To make the `Sample_accessions.tsv` file, use:"
   ]
  },
  {
   "cell_type": "code",
   "execution_count": ,
   "metadata": {
    "collapsed": true
   },
   "outputs": [],
   "source": [
    "!echo \"SampleID\" > ../1-trimming/Sample_accessions.tsv"
   ]
  },
  {
   "cell_type": "code",
   "execution_count": ,
   "metadata": {
    "collapsed": false
   },
   "outputs": [],
   "source": [
    "%%bash\n",
    "for a in $(ls ../raw_reads/ | grep -w \"R1\" | cut -d '.' -f 1)\n",
    "do \n",
    "   SampleID=$a\n",
    "   \n",
    "   echo -e \"$SampleID\"\n",
    "done >> ../1-trimming/Sample_accessions.tsv"
   ]
  },
  {
   "cell_type": "code",
   "execution_count": ,
   "metadata": {
    "collapsed": false
   },
   "outputs": [
    {
     "name": "stdout",
     "output_type": "stream",
     "text": [
     ]
    }
   ],
   "source": [
    "!cat ../1-trimming/Sample_accessions.tsv"
   ]
  },
  {
   "cell_type": "code",
   "execution_count": ,
   "metadata": {
    "collapsed": false
   },
   "outputs": [],
   "source": [
    "%%bash\n",
    "\n",
    "for a in $(cat ../1-trimming/Sample_accessions.tsv | grep \"SampleID\" -v)\n",
    "do\n",
    "    R1=$(ls -1 ../raw_reads/$a.* | grep -w \"R1\")\n",
    "    R2=$(ls -1  ../raw_reads/$a.* | grep -w \"R2\")\n",
    "\n",
    "    echo -e \"$a\\tfastq\\t$R1\\t$R2\"\n",
    "done > Querymap.txt"
   ]
  },
  {
   "cell_type": "code",
   "execution_count": ,
   "metadata": {
    "collapsed": false
   },
   "outputs": [
    {
     "name": "stdout",
     "output_type": "stream",
     "text": [
     ]
    }
   ],
   "source": [
    "!head -n 10 Querymap.txt"
   ]
  },
  {
   "cell_type": "markdown",
   "metadata": {},
   "source": [
    "To the `Querymap.txt` file, add two columns which specify the number of bases to remove from the forward and reverse read. In our case, we want to remove 18 bp to ensure that there is no forward or reverse primer left."
   ]
  },
  {
   "cell_type": "code",
   "execution_count": ,
   "metadata": {
    "collapsed": false
   },
   "outputs": [],
   "source": [
    "%%bash\n",
    "\n",
    "sed 's/$/&\\t18/' Querymap.txt > Querymap_new.txt"
   ]
  },
  {
   "cell_type": "markdown",
   "metadata": {},
   "source": [
    "Have a look (note that the output is probably line-wrapped):"
   ]
  },
  {
   "cell_type": "code",
   "execution_count": ,
   "metadata": {
    "collapsed": false
   },
   "outputs": [
    {
     "name": "stdout",
     "output_type": "stream",
     "text": [
     ]
    }
   ],
   "source": [
    "!head -n 4 Querymap_new.txt"
   ]
  },
  {
   "cell_type": "code",
   "execution_count": ,
   "metadata": {
    "collapsed": true
   },
   "outputs": [],
   "source": [
    "%%bash\n",
    "\n",
    "sed 's/$/&\\t18/' Querymap_new.txt > Querymap_final.txt"
   ]
  },
  {
   "cell_type": "code",
   "execution_count": ,
   "metadata": {
    "collapsed": false
   },
   "outputs": [
    {
     "name": "stdout",
     "output_type": "stream",
     "text": [
     ]
    }
   ],
   "source": [
    "!head -n 4 Querymap_final.txt"
   ]
  },
  {
   "cell_type": "markdown",
   "metadata": {},
   "source": [
    "# Raw read processing"
   ]
  },
  {
   "cell_type": "markdown",
   "metadata": {},
   "source": [
    "Now, perform basic quality trimming and clipping (Trimmomatic) and paired-end read merging (flash). metaBEAT will be used to process all samples in one go."
   ]
  },
  {
   "cell_type": "code",
   "execution_count": ,
   "metadata": {
    "collapsed": false
   },
   "outputs": [
    {
     "name": "stdout",
     "output_type": "stream",
     "text": [
   ]
    }
   ],
   "source": [
    "!metaBEAT_global.py -h"
   ]
  },
  {
   "cell_type": "markdown",
   "metadata": {},
   "source": [
    "Command to trim:"
   ]
  },
  {
   "cell_type": "code",
   "execution_count": ,
   "metadata": {
    "collapsed": false
   },
   "outputs": [
    {
     "name": "stdout",
     "output_type": "stream",
     "text": [
     ]
    }
   ],
   "source": [
    "%%bash\n",
    "\n",
    "echo -e \"Starttime: $(date)\\n\"\n",
    "\n",
    "metaBEAT_global.py \\\n",
    "-Q Querymap_final.txt \\\n",
    "--trim_qual 30 \\\n",
    "--read_crop 110 \\\n",
    "--trim_minlength 90 \\\n",
    "--merge \\\n",
    "--product_length 106 \\\n",
    "--forward_only \\\n",
    "--length_filter 106 \\\n",
    "--length_deviation 0.2 \\\n",
    "-m 12S -o Eel2017_trim30-min90-crop110-forwonly-filter100-deviation0.2 \\\n",
    "-n 5 -v \\\n",
    "-@ nathangriffiths484@gmail.com &> log\n",
    "\n",
    "echo -e \"Endtime: $(date)\\n\""
   ]
  },
  {
   "cell_type": "markdown",
   "metadata": {},
   "source": [
    "Read processing will take several hours.\n",
    "\n",
    "\n",
    "# Visualise query survival after trimming\n",
    "\n",
    "metaBEAT will generate a directory with all temporary files that were created during the processing for each sample and will record useful stats summarizing the data processing in the file `metaBEAT_read_stats.csv`. You can explore the table manually or quickly plot out some of these stats here:"
   ]
  },
  {
   "cell_type": "code",
   "execution_count": ,
   "metadata": {
    "collapsed": false
   },
   "outputs": [
    {
     "data": {
      "text/plain": [
       "<matplotlib.axes.AxesSubplot at 0x7fd9a96223d0>"
      ]
     },
     "execution_count": ,
     "metadata": {},
     "output_type": "execute_result"
    },
    {
     "data": {
      "image/png": "iVBORw0KGgoAAAANSUhEUgAAAXQAAAEACAYAAACj0I2EAAAABHNCSVQICAgIfAhkiAAAAAlwSFlz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\n",
      "text/plain": [
       "<matplotlib.figure.Figure at 0x7fd9aefae490>"
      ]
     },
     "metadata": {},
     "output_type": "display_data"
    }
   ],
   "source": [
    "%matplotlib inline\n",
    "import pandas as pd\n",
    "\n",
    "df = pd.read_csv('Eel2017_trim30-min90-crop110-forwonly-filter100-deviation0.2_read_stats.csv', index_col=0)\n",
    "df['fraction'] = df['queries']/(df['total']*0.5)\n",
    "df.fraction.hist(bins=50)"
   ]
  },
  {
   "cell_type": "markdown",
   "metadata": {},
   "source": [
    "Detailed information on what metaBEAT did to each sample is contained in the `log` file. It contains the exact commands that were run for each sample during each step of the process."
   ]
  },
  {
   "cell_type": "code",
   "execution_count": ,
   "metadata": {
    "collapsed": false
   },
   "outputs": [
     ]
    }
   ],
   "source": [
    "!head -n 100 log"
   ]
  },
  {
   "cell_type": "markdown",
   "metadata": {},
   "source": [
    "The next steps in the processing will be chimera detection, and global clustering of the centroids from all clusters from all samples to produce denovo OTUs. The temporary files from the global clustering and the final OTU table were written to the directory `./GLOBAL`."
   ]
  },
  {
   "cell_type": "code",
   "execution_count": ,
   "metadata": {
    "collapsed": false
   },
   "outputs": [
    {
     "name": "stdout",
     "output_type": "stream",
     "text": [
     ]
    }
   ],
   "source": [
    "!ls GLOBAL/"
   ]
  },
  {
   "cell_type": "markdown",
   "metadata": {},
   "source": [
    "The denovo OTU table (numbers are reads) can be viewed to see how OTUs are distributed across your samples. "
   ]
  },
  {
   "cell_type": "markdown",
   "metadata": {},
   "source": [
    "# Chimera detection"
   ]
  },
  {
   "cell_type": "markdown",
   "metadata": {},
   "source": [
    "Some stats on the read counts before/after trimming, merging etc. are summarised for you in `metaBEAT_read_stats.csv`.\n",
    "\n",
    "Next stage of the processing is chimera detection and removal of putative chimeric sequences. We'll do that using uchime as implemented in vsearch."
   ]
  },
  {
   "cell_type": "code",
   "execution_count": ,
   "metadata": {
    "collapsed": false
   },
   "outputs": [
    {
     "name": "stdout",
     "output_type": "stream",
     "text": [
      "/home/working/1-trimming\r\n"
     ]
    }
   ],
   "source": [
    "!pwd"
   ]
  },
  {
   "cell_type": "code",
   "execution_count": ,
   "metadata": {
    "collapsed": false
   },
   "outputs": [
    {
     "name": "stdout",
     "output_type": "stream",
     "text": [
      "/home/working\n"
     ]
    }
   ],
   "source": [
    "cd .."
   ]
  },
  {
   "cell_type": "code",
   "execution_count": ,
   "metadata": {
    "collapsed": true
   },
   "outputs": [],
   "source": [
    "!mkdir 2-chimera_detection"
   ]
  },
  {
   "cell_type": "code",
   "execution_count": ,
   "metadata": {
    "collapsed": false
   },
   "outputs": [
    {
     "name": "stdout",
     "output_type": "stream",
     "text": [
      "/home/working/2-chimera_detection\n"
     ]
    }
   ],
   "source": [
    "cd 2-chimera_detection"
   ]
  },
  {
   "cell_type": "markdown",
   "metadata": {},
   "source": [
    "Convert reference database from GenBank to fasta format to be used in chimera detection.\n",
    "\n",
    "Prepare `REFmap.txt` file, i.e. text file that specifies the location and the format of the reference to be used.\n",
    "The reference sequences in GenBank format are present in subdirectories for each vertebrate group in the `../Reference_database` directory."
   ]
  },
  {
   "cell_type": "code",
   "execution_count": ,
   "metadata": {
    "collapsed": true
   },
   "outputs": [],
   "source": [
    "!echo '../supplementary_data/Reference_DBs/12S_Fish_SATIVA_cleaned_May_2017.gb\\tgb\\n' \\\n",
    "'../supplementary_data/Reference_DBs/M.zebra.gb\\tgb'> REFmap.txt"
   ]
  },
  {
   "cell_type": "code",
   "execution_count": ,
   "metadata": {
    "collapsed": true
   },
   "outputs": [],
   "source": [
   ]
  },
  {
   "cell_type": "code",
   "execution_count": ,
   "metadata": {
    "collapsed": false
   },
   "outputs": [
    {
     "name": "stdout",
     "output_type": "stream",
     "text": [
     ]
    }
   ],
   "source": [
    "!cat REFmap.txt"
   ]
  },
  {
   "cell_type": "code",
   "execution_count": ,
   "metadata": {
    "collapsed": false
   },
   "outputs": [
    {
     "name": "stdout",
     "output_type": "stream",
     "text": [
     ]
    }
   ],
   "source": [
    "!metaBEAT_global.py -h"
   ]
  },
  {
   "cell_type": "code",
   "execution_count": ,
   "metadata": {
    "collapsed": false,
    "scrolled": true
   },
   "outputs": [
    {
     "name": "stdout",
     "output_type": "stream",
     "text": [
      ]
    },
    {
     "name": "stderr",
     "output_type": "stream",
     "text": [
       ]
    }
   ],
   "source": [
    "%%bash\n",
    "\n",
    "metaBEAT_global.py \\\n",
    "-R REFmap.txt \\\n",
    "-f \\\n",
    "-@ nathangriffiths484@gmail.com"
   ]
  },
  {
   "cell_type": "markdown",
   "metadata": {},
   "source": [
    "This will produce `refs.fasta`."
   ]
  },
  {
   "cell_type": "code",
   "execution_count": ,
   "metadata": {
    "collapsed": false
   },
   "outputs": [
    {
     "name": "stdout",
     "output_type": "stream",
     "text": [
       ]
    }
   ],
   "source": [
    "!head refs.fasta"
   ]
  },
  {
   "cell_type": "markdown",
   "metadata": {},
   "source": [
    "Now run chimera detection."
   ]
  },
  {
   "cell_type": "code",
   "execution_count": ,
   "metadata": {
    "collapsed": false
   },
   "outputs": [
    {
     "name": "stdout",
     "output_type": "stream",
     "text": [
   ]
  },
  {
   "cell_type": "markdown",
   "metadata": {},
   "source": [
    "# Clustering and taxonomic assignment against UK fish database"
   ]
  },
  {
   "cell_type": "code",
   "execution_count": ,
   "metadata": {
    "collapsed": false
   },
   "outputs": [
    {
     "name": "stdout",
     "output_type": "stream",
     "text": [
      "/home/working/4-taxonomic_assignment_vertebrates\r\n"
     ]
    }
   ],
   "source": [
    "!pwd"
   ]
  },
  {
   "cell_type": "code",
   "execution_count": ,
   "metadata": {
    "collapsed": false
   },
   "outputs": [
    {
     "name": "stdout",
     "output_type": "stream",
     "text": [
      "/home/working\n"
     ]
    }
   ],
   "source": [
    "cd .."
   ]
  },
  {
   "cell_type": "code",
   "execution_count": ,
   "metadata": {
    "collapsed": false
   },
   "outputs": [
    {
     "name": "stdout",
     "output_type": "stream",
     "text": [
      "mkdir: cannot create directory ‘3-taxonomic_assignment_fish’: File exists\r\n"
     ]
    }
   ],
   "source": [
    "!mkdir 3-taxonomic_assignment_fish"
   ]
  },
  {
   "cell_type": "code",
   "execution_count": ,
   "metadata": {
    "collapsed": false
   },
   "outputs": [
    {
     "name": "stdout",
     "output_type": "stream",
     "text": [
      "/home/working/3-taxonomic_assignment_fish\n"
     ]
    }
   ],
   "source": [
    "cd 3-taxonomic_assignment_fish/"
   ]
  },
  {
   "cell_type": "markdown",
   "metadata": {},
   "source": [
    "Produce the text file containing the fish reference sequences using the command line - we call it `REFmap.txt`."
   ]
  },
  {
   "cell_type": "code",
   "execution_count": ,
   "metadata": {
    "collapsed": true
   },
   "outputs": [],
   "source": [
    "!echo '../supplementary_data/Reference_DBs/12S_Fish_SATIVA_cleaned_May_2017.gb\\tgb\\n' \\\n",
    "'../supplementary_data/Reference_DBs/M.zebra.gb\\tgb'> REFmap.txt"
   ]
  },
  {
   "cell_type": "code",
   "execution_count": ,
   "metadata": {
    "collapsed": false
   },
   "outputs": [
    {
     "name": "stdout",
     "output_type": "stream",
     "text": [
     ]
    }
   ],
   "source": [
    "!cat REFmap.txt"
   ]
  },
  {
   "cell_type": "markdown",
   "metadata": {},
   "source": [
    "Produce the text file containing non-chimera query sequences - `Querymap.txt`."
   ]
  },
  {
   "cell_type": "code",
   "execution_count": ,
   "metadata": {
    "collapsed": true
   },
   "outputs": [],
   "source": [
    "%%bash\n",
    "\n",
    "#Querymap\n",
    "for a in $(ls -l ../2-chimera_detection/ | grep \"^d\" | perl -ne 'chomp; @a=split(\" \"); print \"$a[-1]\\n\"')\n",
    "do\n",
    "    echo -e \"$a-nc\\tfasta\\t../2-chimera_detection/$a/$a-nonchimeras.fasta\"\n",
    "done > Querymap.txt"
   ]
  },
  {
   "cell_type": "code",
   "execution_count": ,
   "metadata": {
    "collapsed": false
   },
   "outputs": [
    {
     "name": "stdout",
     "output_type": "stream",
     "text": [
     ]
    }
   ],
   "source": [
    "!cat Querymap.txt"
   ]
  },
  {
   "cell_type": "markdown",
   "metadata": {},
   "source": [
    "The Querymap.txt file has been made but includes the `./GLOBAL` directory in which all centroids and queries are contained. This will cause metaBEAT to fail so it must be removed manually from the `Querymap.txt` file."
   ]
  },
  {
   "cell_type": "code",
   "execution_count": ,
   "metadata": {
    "collapsed": true
   },
   "outputs": [],
   "source": [
    "!sed '/GLOBAL/d' Querymap.txt > Querymap_final.txt"
   ]
  },
  {
   "cell_type": "code",
   "execution_count": ,
   "metadata": {
    "collapsed": false
   },
   "outputs": [
    {
     "name": "stdout",
     "output_type": "stream",
     "text": [
     ]
    }
   ],
   "source": [
    "!cat Querymap_final.txt"
   ]
  },
  {
   "cell_type": "markdown",
   "metadata": {},
   "source": [
    "Update the taxonomy database in the current metaBEAT image."
   ]
  },
  {
   "cell_type": "code",
   "execution_count": ,
   "metadata": {
    "collapsed": false
   },
   "outputs": [],
   "source": [
    "!taxit new_database \\\n",
    "--taxdump-url ftp://ftp.ncbi.nlm.nih.gov/pub/taxonomy/taxdump_archive/taxdmp_2018-10-01.zip \\\n",
    "    --download-dir /usr/bin/ /usr/bin/taxonomy.db"
   ]
  },
  {
   "cell_type": "markdown",
   "metadata": {},
   "source": [
    "That's almost it. Now start the pipeline to do sequence clustering and taxonomic assignment of non-chimera queries via metaBEAT. As input, `Querymap.txt` containing samples that have been trimmed, merged and checked for chimeras, and the `REFmap.txt` file must be specified. metaBEAT will be asked to attempt taxonomic assignment using BLAST.\n",
    "\n",
    "metaBEAT will automatically wrangle the data into the particular file formats that are required by each of the methods, run all necessary steps, and finally convert the outputs of each program to a standardized BIOM table.\n",
    "\n",
    "GO!"
   ]
  },
  {
   "cell_type": "code",
   "execution_count": ,
   "metadata": {
    "collapsed": false
   },
   "outputs": [
    {
     "name": "stdout",
     "output_type": "stream",
     "text": [
     
     ]
    }
   ],
   "source": [
    "!metaBEAT_global.py -h"
   ]
  },
  {
   "cell_type": "code",
   "execution_count": ,
   "metadata": {
    "collapsed": false
   },
   "outputs": [
    {
     "name": "stdout",
     "output_type": "stream",
     "text": [
      "Starttime: Sat Jul  4 20:36:09 UTC 2020\n",
      "\n",
      "Endtime: Sat Jul  4 20:55:40 UTC 2020\n",
      "\n"
     ]
    }
   ],
   "source": [
    "%%bash\n",
    "\n",
    "echo -e \"Starttime: $(date)\\n\"\n",
    "\n",
    "metaBEAT_global.py \\\n",
    "-Q Querymap_final.txt \\\n",
    "-R REFmap.txt \\\n",
    "--cluster --clust_match 1 --clust_cov 3 \\\n",
    "--blast --min_ident 0.98 \\\n",
    "-m 12S -n 5 \\\n",
    "-E -v \\\n",
    "-@ nathangriffiths484@gmail.com \\\n",
    "-o Eel2017_12S-trim30-min90-crop110-mergeforwonly-filt100-dev0.2_nonchimera_c1cov3_blast0.98_fish &> log_fish\n",
    "\n",
    "echo -e \"Endtime: $(date)\\n\""
   ]
  },
  {
   "cell_type": "code",
   "execution_count": ,
   "metadata": {
    "collapsed": false
   },
   "outputs": [
    {
     "name": "stdout",
     "output_type": "stream",
     "text": [
     ]
    }
   ],
   "source": [
    "!tail -n 50 log_fish"
   ]
  },
  {
   "cell_type": "markdown",
   "metadata": {},
   "source": [
    "**DONE, Output file under GLOBAL/BLAST_0.98"
   ]
  }
 ],
 "metadata": {
  "kernelspec": {
   "display_name": "Python 2",
   "language": "python",
   "name": "python2"
  },
  "language_info": {
   "codemirror_mode": {
    "name": "ipython",
    "version": 2
   },
   "file_extension": ".py",
   "mimetype": "text/x-python",
   "name": "python",
   "nbconvert_exporter": "python",
   "pygments_lexer": "ipython2",
   "version": "2.7.6"
  }
 },
 "nbformat": 4,
 "nbformat_minor": 0
}
