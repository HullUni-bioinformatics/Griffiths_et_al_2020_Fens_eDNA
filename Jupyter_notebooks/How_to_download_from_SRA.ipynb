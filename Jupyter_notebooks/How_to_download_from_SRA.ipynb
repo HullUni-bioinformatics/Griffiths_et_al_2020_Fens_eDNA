{
 "cells": [
  {
   "cell_type": "markdown",
   "metadata": {},
   "source": [
    "Illumina data can be downloaded from SRA using the workflow outlined below.\n",
    "\n",
    "It will requre the [SRA Toolkit](https://trace.ncbi.nlm.nih.gov/Traces/sra/sra.cgi?view=toolkit_doc) program fastq-dump to be installed on your machine, and in your path.\n",
    "\n",
    "If the necessary program is not yet present in your system, you can get it using:"
   ]
  },
  {
   "cell_type": "code",
   "execution_count": null,
   "metadata": {
    "collapsed": true
   },
   "outputs": [],
   "source": [
    "%%bash\n",
    "\n",
    "mkdir SRA-toolkit\n",
    "cd SRA-toolkit\n",
    "\n",
    "wget http://ftp-trace.ncbi.nlm.nih.gov/sra/sdk/2.8.0/sratoolkit.2.8.0-ubuntu64.tar.gz\n",
    "\n",
    "#decompress the archive\n",
    "tar -xzf sratoolkit.2.8.0-ubuntu64.tar.gz\n",
    "\n",
    "#add the fastq-dump executable to your PATH (may require sudo)\n",
    "cp $(pwd)/sratoolkit.2.8.0-ubuntu64/bin/fastq-dump /usr/local/bin\n",
    "\n",
    "#remove SRA toolkit files that are not required\n",
    "cd ..\n",
    "rm -rf SRA-toolkit/"
   ]
  },
  {
   "cell_type": "markdown",
   "metadata": {},
   "source": [
    "The following command will read through the file `Sample_accessions.tsv` ([here](https://github.com/HullUni-bioinformatics/Harper_et_al_2020_mustelid_diet_metabarcoding/blob/master/Data/Sample_accessions.tsv)) and download the relevant raw read files from SRA based on the accessions provided in column 3 of the file. It will then rename the files according to the sample ID (column 1) and the marker (column 2)."
   ]
  },
  {
   "cell_type": "code",
   "execution_count": null,
   "metadata": {
    "collapsed": true
   },
   "outputs": [],
   "source": [
    "%%bash\n",
    "\n",
    "for s in $(cat ../Data/Sample_accessions.tsv | sed 's/\\t/,/g' | grep \"SRA_Accession\" -v)\n",
    "do \n",
    "    id=$(echo $s | cut -d \",\" -f 1)\n",
    "    accession=$(echo $s | cut -d \",\" -f 3)\n",
    "    marker=$(echo $s | cut -d \",\" -f 2)\n",
    "    echo -e \"$id\\t$accession\\t$marker\"\n",
    "    fastq-dump --split-files --gzip --defline-seq '@$ac-$sn/$ri' --defline-qual '+' $accession\n",
    "    mv $accession\\_1.fastq.gz $id-$marker\\_1.fastq.gz\n",
    "    mv $accession\\_2.fastq.gz $id-$marker\\_2.fastq.gz\n",
    "done"
   ]
  },
  {
   "cell_type": "markdown",
   "metadata": {},
   "source": [
    "Double check all files are there."
   ]
  }
 ],
 "metadata": {
  "kernelspec": {
   "display_name": "Python 2",
   "language": "python",
   "name": "python2"
  },
  "language_info": {
   "codemirror_mode": {
    "name": "ipython",
    "version": 2
   },
   "file_extension": ".py",
   "mimetype": "text/x-python",
   "name": "python",
   "nbconvert_exporter": "python",
   "pygments_lexer": "ipython2",
   "version": "2.7.6"
  }
 },
 "nbformat": 4,
 "nbformat_minor": 0
}
